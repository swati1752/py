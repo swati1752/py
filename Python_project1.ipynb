{
 "cells": [
  {
   "cell_type": "code",
   "execution_count": 29,
   "id": "10216882",
   "metadata": {},
   "outputs": [
    {
     "name": "stdout",
     "output_type": "stream",
     "text": [
      "Enter a string ehy it it\n",
      "ehy it ,length: 2\n"
     ]
    }
   ],
   "source": [
    "# using split and join functions\n",
    "\n",
    "# returns the number of non-repeated words\n",
    "\n",
    "# st = \"Cold in winters, hot in summers\"\n",
    "st = input(\"Enter a string \")\n",
    "st = st.strip();\n",
    "li_s = st.split()\n",
    "\n",
    "# logically making a set of words\n",
    "set_s = []\n",
    "for i in range(len(li_s)):\n",
    "    k = li_s[i]\n",
    "    if k not in li_s[i+1:]:\n",
    "        set_s.append(k)\n",
    "\n",
    "print(\" \".join(set_s) ,\",length:\" ,len(set_s))\n"
   ]
  },
  {
   "cell_type": "code",
   "execution_count": 38,
   "id": "c73920b1",
   "metadata": {},
   "outputs": [
    {
     "name": "stdout",
     "output_type": "stream",
     "text": [
      "akgec\n",
      "akgec\n",
      "[0, 2, 4]\n",
      "0\n",
      "{1, 2, 3, 4, 5}\n",
      "\n",
      " dict_items([('hey', 'akgec'), ('conatus', 'akgec'), ('odd', [1, 3, 5]), ('even', [0, 2, 4]), ('natural', {1, 2, 3, 4, 5})])\n"
     ]
    }
   ],
   "source": [
    "# using get and items function\n",
    "\n",
    "dic = {\n",
    "       'hey': 'akgec',\n",
    "       'conatus': 'akgec',\n",
    "       'odd' : [1,3,5],\n",
    "       'even' : [0,2,4],\n",
    "       'natural': {1,2,3,4,5}\n",
    "      }\n",
    "\n",
    "li_key = ['hey' , 'conatus', 'even' , 'oddd' , 'natural']  # purposely placing oddd instead of odd\n",
    "    \n",
    "for k in li_key:\n",
    "     print(dic.get(k,0))\n",
    "\n",
    "items_dic = dic.items()\n",
    "print('\\n',items_dic)"
   ]
  },
  {
   "cell_type": "code",
   "execution_count": 2,
   "id": "7d7dbdb5",
   "metadata": {},
   "outputs": [
    {
     "name": "stdout",
     "output_type": "stream",
     "text": [
      "hey my name is SWATI and roll no. is 13\n"
     ]
    }
   ],
   "source": [
    "# using f string\n",
    " \n",
    "name = 'SWATI'\n",
    "roll = 13\n",
    "print(f\"hey my name is {name} and roll no. is {roll}\")"
   ]
  },
  {
   "cell_type": "code",
   "execution_count": 7,
   "id": "6db0baf4",
   "metadata": {},
   "outputs": [
    {
     "name": "stdout",
     "output_type": "stream",
     "text": [
      "You choose sissior\n",
      "\n",
      "computer choose sissior\n",
      "\n",
      "Draw\n"
     ]
    }
   ],
   "source": [
    "# rock paper sissior\n",
    "import random\n",
    "\n",
    "list = [\"rock\" , \"paper\" , \"sissior\"]\n",
    "i=random.randint(0,2)\n",
    "j=random.randint(0,2)\n",
    "\n",
    "print(f\"You choose {list[i]}\\n\")\n",
    "print(f\"computer choose {list[j]}\\n\")\n",
    "\n",
    "if i==j:\n",
    " print(\"Draw\")\n",
    "elif i==0 and j==2:\n",
    "  print(\"You WON!\")\n",
    "elif i>j:\n",
    "  print(\"You WON!\")\n",
    "else:\n",
    "  print(\"You Lose\")"
   ]
  },
  {
   "cell_type": "code",
   "execution_count": 8,
   "id": "8676c774",
   "metadata": {},
   "outputs": [
    {
     "ename": "ModuleNotFoundError",
     "evalue": "No module named 'requests'",
     "output_type": "error",
     "traceback": [
      "\u001b[1;31m---------------------------------------------------------------------------\u001b[0m",
      "\u001b[1;31mModuleNotFoundError\u001b[0m                       Traceback (most recent call last)",
      "\u001b[1;32m~\\AppData\\Local\\Temp/ipykernel_18132/1806894600.py\u001b[0m in \u001b[0;36m<module>\u001b[1;34m\u001b[0m\n\u001b[1;32m----> 1\u001b[1;33m \u001b[1;32mimport\u001b[0m \u001b[0mrequests\u001b[0m\u001b[1;33m\u001b[0m\u001b[1;33m\u001b[0m\u001b[0m\n\u001b[0m\u001b[0;32m      2\u001b[0m \u001b[1;33m\u001b[0m\u001b[0m\n\u001b[0;32m      3\u001b[0m \u001b[1;31m# user = input(\"Input any subject \")\u001b[0m\u001b[1;33m\u001b[0m\u001b[1;33m\u001b[0m\u001b[1;33m\u001b[0m\u001b[0m\n\u001b[0;32m      4\u001b[0m \u001b[0murl\u001b[0m \u001b[1;33m=\u001b[0m \u001b[1;34m\"http://openlibrary.org/\"\u001b[0m\u001b[1;33m\u001b[0m\u001b[1;33m\u001b[0m\u001b[0m\n\u001b[0;32m      5\u001b[0m \u001b[0minput_subject\u001b[0m \u001b[1;33m=\u001b[0m \u001b[0minput\u001b[0m\u001b[1;33m(\u001b[0m\u001b[1;34m\"Enter a subject \"\u001b[0m\u001b[1;33m)\u001b[0m\u001b[1;33m\u001b[0m\u001b[1;33m\u001b[0m\u001b[0m\n",
      "\u001b[1;31mModuleNotFoundError\u001b[0m: No module named 'requests'"
     ]
    }
   ],
   "source": [
    "import requests\n",
    "\n",
    "# user = input(\"Input any subject \")\n",
    "url = \"http://openlibrary.org/\"\n",
    "input_subject = input(\"Enter a subject \")\n",
    "url_end =  url + \"/subjects/\" + input_subject + \".json\"\n",
    "response = requests.get(url = url_end )\n",
    "\n",
    "# print(response.status_code)\n",
    "data = response.json()\n",
    "work = data[\"works\"]\n",
    "for book in work:\n",
    "    print(book[\"title\"])\n",
    "    url_dis = url + book[\"key\"] + \".json\"\n",
    "    res = requests.get(url=url_dis)\n",
    "    d = res.json()\n",
    "    # print(d)\n",
    "    print(d[\"description\"])\n",
    "    print(\"___________________\")"
   ]
  },
  {
   "cell_type": "code",
   "execution_count": null,
   "id": "23bc0575",
   "metadata": {},
   "outputs": [],
   "source": []
  }
 ],
 "metadata": {
  "kernelspec": {
   "display_name": "Python 3 (ipykernel)",
   "language": "python",
   "name": "python3"
  },
  "language_info": {
   "codemirror_mode": {
    "name": "ipython",
    "version": 3
   },
   "file_extension": ".py",
   "mimetype": "text/x-python",
   "name": "python",
   "nbconvert_exporter": "python",
   "pygments_lexer": "ipython3",
   "version": "3.9.6"
  }
 },
 "nbformat": 4,
 "nbformat_minor": 5
}
